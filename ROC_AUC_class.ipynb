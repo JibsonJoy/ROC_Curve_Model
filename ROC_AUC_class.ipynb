{
 "cells": [
  {
   "cell_type": "markdown",
   "metadata": {},
   "source": [
    "# ROC_CURVE_METHOD"
   ]
  },
  {
   "cell_type": "markdown",
   "metadata": {},
   "source": [
    "## Loading_Libraries"
   ]
  },
  {
   "cell_type": "code",
   "execution_count": 42,
   "metadata": {},
   "outputs": [],
   "source": [
    "\n",
    "\n",
    "import pandas as pd\n",
    "from matplotlib import pyplot as plt\n",
    "%matplotlib inline\n",
    "from sklearn.model_selection import train_test_split\n",
    "from sklearn.linear_model import LogisticRegression\n",
    "from sklearn.ensemble import RandomForestClassifier\n",
    "from sklearn.ensemble import AdaBoostClassifier\n",
    "from sklearn.neighbors import KNeighborsClassifier\n",
    "from sklearn.metrics import accuracy_score\n",
    "import numpy as np\n",
    "from sklearn.preprocessing import StandardScaler\n",
    "import seaborn as sns"
   ]
  },
  {
   "cell_type": "markdown",
   "metadata": {},
   "source": [
    "## Import_Dataset"
   ]
  },
  {
   "cell_type": "markdown",
   "metadata": {},
   "source": [
    "#### Cancer_data_set "
   ]
  },
  {
   "cell_type": "code",
   "execution_count": 6,
   "metadata": {},
   "outputs": [],
   "source": [
    "data = pd.read_csv(r\"C:\\Users\\JIBSON JOY\\projects\\ROC_Curve_Model\\breast_cancer_data.csv\")"
   ]
  },
  {
   "cell_type": "markdown",
   "metadata": {},
   "source": [
    "### Mapping"
   ]
  },
  {
   "cell_type": "code",
   "execution_count": 7,
   "metadata": {},
   "outputs": [],
   "source": [
    "\n",
    "data.drop(['id','Unnamed: 32'],axis=1,inplace=True)\n",
    "# map function for mapping benign into 0 and malignant into 1\n",
    "data['diagnosis'] = data['diagnosis'].map({'B':0,'M':1})\n",
    "\n",
    "X=data.drop(['diagnosis'],axis=1)\n",
    "y=data['diagnosis']\n",
    "\n",
    "X_train, X_test, y_train, y_test = train_test_split(X, y, test_size=0.33,random_state=42)"
   ]
  },
  {
   "cell_type": "markdown",
   "metadata": {},
   "source": [
    "### Finding Outliers"
   ]
  },
  {
   "cell_type": "code",
   "execution_count": 44,
   "metadata": {},
   "outputs": [
    {
     "name": "stderr",
     "output_type": "stream",
     "text": [
      "c:\\Users\\JIBSON JOY\\anaconda3\\lib\\site-packages\\seaborn\\_decorators.py:36: FutureWarning: Pass the following variable as a keyword arg: x. From version 0.12, the only valid positional argument will be `data`, and passing other arguments without an explicit keyword will result in an error or misinterpretation.\n",
      "  warnings.warn(\n"
     ]
    },
    {
     "data": {
      "text/plain": [
       "<AxesSubplot:xlabel='texture_mean'>"
      ]
     },
     "execution_count": 44,
     "metadata": {},
     "output_type": "execute_result"
    },
    {
     "data": {
      "image/png": "[encoded data removed]",
      "text/plain": [
       "<Figure size 432x288 with 1 Axes>"
      ]
     },
     "metadata": {
      "needs_background": "light"
     },
     "output_type": "display_data"
    }
   ],
   "source": [
    "sns.boxplot(data['texture_mean'])"
   ]
  },
  {
   "cell_type": "code",
   "execution_count": 46,
   "metadata": {},
   "outputs": [
    {
     "data": {
      "text/plain": [
       "Index(['diagnosis', 'radius_mean', 'texture_mean', 'perimeter_mean',\n",
       "       'area_mean', 'smoothness_mean', 'compactness_mean', 'concavity_mean',\n",
       "       'concave points_mean', 'symmetry_mean', 'fractal_dimension_mean',\n",
       "       'radius_se', 'texture_se', 'perimeter_se', 'area_se', 'smoothness_se',\n",
       "       'compactness_se', 'concavity_se', 'concave points_se', 'symmetry_se',\n",
       "       'fractal_dimension_se', 'radius_worst', 'texture_worst',\n",
       "       'perimeter_worst', 'area_worst', 'smoothness_worst',\n",
       "       'compactness_worst', 'concavity_worst', 'concave points_worst',\n",
       "       'symmetry_worst', 'fractal_dimension_worst'],\n",
       "      dtype='object')"
      ]
     },
     "execution_count": 46,
     "metadata": {},
     "output_type": "execute_result"
    }
   ],
   "source": [
    "numericalColumns = data.select_dtypes(include=np.number).columns\n",
    "numericalColumns"
   ]
  },
  {
   "cell_type": "code",
   "execution_count": 48,
   "metadata": {},
   "outputs": [],
   "source": [
    "descriateCols=[]\n",
    "continuesCols=[]\n",
    "\n",
    "for column in numericalColumns:\n",
    "    if data[column].nunique()>20:\n",
    "        continuesCols.append(column)\n",
    "    else:\n",
    "        descriateCols.append(column)"
   ]
  },
  {
   "cell_type": "code",
   "execution_count": 51,
   "metadata": {},
   "outputs": [],
   "source": [
    "for column in continuesCols:\n",
    "    upper_lim=data[column].mean()+data[column].std() *3\n",
    "    lower_lim=data[column].mean()-data[column].std() *3\n",
    "\n",
    "    data.loc[(data[column] > upper_lim),column] = upper_lim\n",
    "    data.loc[(data[column] < lower_lim),column] = lower_lim"
   ]
  },
  {
   "cell_type": "code",
   "execution_count": 54,
   "metadata": {},
   "outputs": [
    {
     "name": "stderr",
     "output_type": "stream",
     "text": [
      "c:\\Users\\JIBSON JOY\\anaconda3\\lib\\site-packages\\seaborn\\_decorators.py:36: FutureWarning: Pass the following variable as a keyword arg: x. From version 0.12, the only valid positional argument will be `data`, and passing other arguments without an explicit keyword will result in an error or misinterpretation.\n",
      "  warnings.warn(\n"
     ]
    },
    {
     "data": {
      "text/plain": [
       "<AxesSubplot:xlabel='texture_mean'>"
      ]
     },
     "execution_count": 54,
     "metadata": {},
     "output_type": "execute_result"
    },
    {
     "data": {
      "image/png": "[encoded data removed]",
      "text/plain": [
       "<Figure size 432x288 with 1 Axes>"
      ]
     },
     "metadata": {
      "needs_background": "light"
     },
     "output_type": "display_data"
    }
   ],
   "source": [
    "sns.boxplot(data['texture_mean'])"
   ]
  },
  {
   "cell_type": "markdown",
   "metadata": {},
   "source": [
    "### Scaling_Down"
   ]
  },
  {
   "cell_type": "code",
   "execution_count": 55,
   "metadata": {},
   "outputs": [],
   "source": [
    "scale = StandardScaler()\n",
    "X_train_scaled = scale.fit_transform(X_train)\n",
    "X_test_scaled = scale.transform(X_test)"
   ]
  },
  {
   "cell_type": "code",
   "execution_count": 8,
   "metadata": {},
   "outputs": [],
   "source": [
    "from sklearn.metrics import roc_curve\n",
    "from sklearn.metrics import roc_auc_score"
   ]
  },
  {
   "cell_type": "markdown",
   "metadata": {},
   "source": [
    "### Using RandomforestClassifier"
   ]
  },
  {
   "cell_type": "code",
   "execution_count": 56,
   "metadata": {},
   "outputs": [
    {
     "name": "stdout",
     "output_type": "stream",
     "text": [
      "RF training ROC- AUC Accuarcy is : 1.0\n",
      "RF test ROC- AUC Accuarcy is : 0.9943258912051314\n"
     ]
    }
   ],
   "source": [
    "\n",
    "rf_model = RandomForestClassifier()\n",
    "rf_model.fit(X_train_scaled,y_train)\n",
    "ytrain_pred=rf_model.predict_proba(X_train_scaled)\n",
    "\n",
    "print(f\"RF training ROC- AUC Accuarcy is : {roc_auc_score(y_train,ytrain_pred[:,1])}\")\n",
    "ytest_prob = rf_model.predict_proba(X_test_scaled)\n",
    "print(f\"RF test ROC- AUC Accuarcy is : {roc_auc_score(y_test,ytest_prob[:,1])}\")"
   ]
  },
  {
   "cell_type": "markdown",
   "metadata": {},
   "source": [
    "### Using Logistic_Regression"
   ]
  },
  {
   "cell_type": "code",
   "execution_count": 57,
   "metadata": {},
   "outputs": [
    {
     "name": "stdout",
     "output_type": "stream",
     "text": [
      "Logistic Reg training ROC- AUC Accuarcy is : 0.9970485096434833\n",
      "Logistic Reg  test ROC- AUC Accuarcy is : 0.9972862957937585\n"
     ]
    }
   ],
   "source": [
    "\n",
    "log_model = LogisticRegression()\n",
    "log_model.fit(X_train_scaled,y_train)\n",
    "ytrain_pred=log_model.predict_proba(X_train_scaled)\n",
    "\n",
    "print(f\"Logistic Reg training ROC- AUC Accuarcy is : {roc_auc_score(y_train,ytrain_pred[:,1])}\")\n",
    "ytest_prob = log_model.predict_proba(X_test_scaled)\n",
    "print(f\"Logistic Reg  test ROC- AUC Accuarcy is : {roc_auc_score(y_test,ytest_prob[:,1])}\")"
   ]
  },
  {
   "cell_type": "markdown",
   "metadata": {},
   "source": [
    "### Using AdaboostClassifier"
   ]
  },
  {
   "cell_type": "code",
   "execution_count": 58,
   "metadata": {},
   "outputs": [
    {
     "name": "stdout",
     "output_type": "stream",
     "text": [
      "Adaboost training ROC- AUC Accuarcy is : 1.0\n",
      "Adaboost   test ROC- AUC Accuarcy is : 0.9861847785864069\n"
     ]
    }
   ],
   "source": [
    "ada_model = AdaBoostClassifier()\n",
    "ada_model.fit(X_train_scaled,y_train)\n",
    "ytrain_pred=ada_model.predict_proba(X_train_scaled)\n",
    "\n",
    "print(f\"Adaboost training ROC- AUC Accuarcy is : {roc_auc_score(y_train,ytrain_pred[:,1])}\")\n",
    "ytest_prob = ada_model.predict_proba(X_test_scaled)\n",
    "print(f\"Adaboost   test ROC- AUC Accuarcy is : {roc_auc_score(y_test,ytest_prob[:,1])}\")"
   ]
  },
  {
   "cell_type": "markdown",
   "metadata": {},
   "source": [
    "### Using KNeighborsClassifier"
   ]
  },
  {
   "cell_type": "code",
   "execution_count": 59,
   "metadata": {},
   "outputs": [
    {
     "name": "stdout",
     "output_type": "stream",
     "text": [
      "Adaboost training ROC- AUC Accuarcy is : 0.9981735827001754\n",
      "Adaboost   test ROC- AUC Accuarcy is : 0.9782903663500677\n"
     ]
    }
   ],
   "source": [
    "knn_model = KNeighborsClassifier()\n",
    "knn_model.fit(X_train_scaled,y_train)\n",
    "ytrain_pred=knn_model.predict_proba(X_train_scaled)\n",
    "\n",
    "print(f\"Adaboost training ROC- AUC Accuarcy is : {roc_auc_score(y_train,ytrain_pred[:,1])}\")\n",
    "ytest_prob = knn_model.predict_proba(X_test_scaled)\n",
    "print(f\"Adaboost   test ROC- AUC Accuarcy is : {roc_auc_score(y_test,ytest_prob[:,1])}\")"
   ]
  },
  {
   "cell_type": "markdown",
   "metadata": {},
   "source": [
    "#### Using append fn. for save the series into the list"
   ]
  },
  {
   "cell_type": "code",
   "execution_count": 69,
   "metadata": {},
   "outputs": [],
   "source": [
    "pred =[]\n",
    "for model in [rf_model,log_model,ada_model,knn_model]:\n",
    "   pred.append(pd.Series(model.predict_proba(X_test_scaled)[:,1]))\n",
    "\n",
    "final_prediction = pd.concat(pred,axis=1).mean(axis=1)"
   ]
  },
  {
   "cell_type": "code",
   "execution_count": 70,
   "metadata": {},
   "outputs": [
    {
     "data": {
      "text/plain": [
       "0      0.161286\n",
       "1      0.953685\n",
       "2      0.911076\n",
       "3      0.095028\n",
       "4      0.051629\n",
       "         ...   \n",
       "183    0.881400\n",
       "184    0.943433\n",
       "185    0.868131\n",
       "186    0.490877\n",
       "187    0.116375\n",
       "Length: 188, dtype: float64"
      ]
     },
     "execution_count": 70,
     "metadata": {},
     "output_type": "execute_result"
    }
   ],
   "source": [
    "final_prediction\n"
   ]
  },
  {
   "cell_type": "markdown",
   "metadata": {},
   "source": [
    "### Calculate the ROC curve"
   ]
  },
  {
   "cell_type": "code",
   "execution_count": 84,
   "metadata": {},
   "outputs": [],
   "source": [
    "fpr, tpr, thresholds = roc_curve(y_test,final_prediction)"
   ]
  },
  {
   "cell_type": "code",
   "execution_count": 85,
   "metadata": {},
   "outputs": [
    {
     "data": {
      "text/plain": [
       "array([1.9617185 , 0.9617185 , 0.61116908, 0.44755593, 0.43562473,\n",
       "       0.38814931, 0.37590947, 0.2446803 , 0.22769622, 0.05162852])"
      ]
     },
     "execution_count": 85,
     "metadata": {},
     "output_type": "execute_result"
    }
   ],
   "source": [
    "thresholds\n"
   ]
  },
  {
   "cell_type": "code",
   "execution_count": 86,
   "metadata": {},
   "outputs": [],
   "source": [
    "accuracy_ls=[]\n",
    "\n",
    "for thres in thresholds:\n",
    "    y_pred = np.where(final_prediction>thres,1,0)\n",
    "    accuracy_ls.append(accuracy_score(y_test,y_pred))"
   ]
  },
  {
   "cell_type": "code",
   "execution_count": 87,
   "metadata": {},
   "outputs": [],
   "source": [
    "acc_list = pd.concat([pd.Series(thresholds),pd.Series(accuracy_ls)],axis=1)\n",
    "acc_list.columns =['Threshold','Accuarcy']\n",
    "acc_list.sort_values(by='Accuarcy',ascending=False,inplace=True)\n"
   ]
  },
  {
   "cell_type": "code",
   "execution_count": 88,
   "metadata": {},
   "outputs": [
    {
     "data": {
      "text/html": [
       "<div>\n",
       "<style scoped>\n",
       "    .dataframe tbody tr th:only-of-type {\n",
       "        vertical-align: middle;\n",
       "    }\n",
       "\n",
       "    .dataframe tbody tr th {\n",
       "        vertical-align: top;\n",
       "    }\n",
       "\n",
       "    .dataframe thead th {\n",
       "        text-align: right;\n",
       "    }\n",
       "</style>\n",
       "<table border=\"1\" class=\"dataframe\">\n",
       "  <thead>\n",
       "    <tr style=\"text-align: right;\">\n",
       "      <th></th>\n",
       "      <th>Threshold</th>\n",
       "      <th>Accuarcy</th>\n",
       "    </tr>\n",
       "  </thead>\n",
       "  <tbody>\n",
       "    <tr>\n",
       "      <th>2</th>\n",
       "      <td>0.611169</td>\n",
       "      <td>0.978723</td>\n",
       "    </tr>\n",
       "    <tr>\n",
       "      <th>3</th>\n",
       "      <td>0.447556</td>\n",
       "      <td>0.968085</td>\n",
       "    </tr>\n",
       "    <tr>\n",
       "      <th>4</th>\n",
       "      <td>0.435625</td>\n",
       "      <td>0.962766</td>\n",
       "    </tr>\n",
       "    <tr>\n",
       "      <th>5</th>\n",
       "      <td>0.388149</td>\n",
       "      <td>0.952128</td>\n",
       "    </tr>\n",
       "    <tr>\n",
       "      <th>6</th>\n",
       "      <td>0.375909</td>\n",
       "      <td>0.946809</td>\n",
       "    </tr>\n",
       "    <tr>\n",
       "      <th>7</th>\n",
       "      <td>0.244680</td>\n",
       "      <td>0.930851</td>\n",
       "    </tr>\n",
       "    <tr>\n",
       "      <th>8</th>\n",
       "      <td>0.227696</td>\n",
       "      <td>0.925532</td>\n",
       "    </tr>\n",
       "    <tr>\n",
       "      <th>0</th>\n",
       "      <td>1.961718</td>\n",
       "      <td>0.643617</td>\n",
       "    </tr>\n",
       "    <tr>\n",
       "      <th>1</th>\n",
       "      <td>0.961718</td>\n",
       "      <td>0.643617</td>\n",
       "    </tr>\n",
       "    <tr>\n",
       "      <th>9</th>\n",
       "      <td>0.051629</td>\n",
       "      <td>0.361702</td>\n",
       "    </tr>\n",
       "  </tbody>\n",
       "</table>\n",
       "</div>"
      ],
      "text/plain": [
       "   Threshold  Accuarcy\n",
       "2   0.611169  0.978723\n",
       "3   0.447556  0.968085\n",
       "4   0.435625  0.962766\n",
       "5   0.388149  0.952128\n",
       "6   0.375909  0.946809\n",
       "7   0.244680  0.930851\n",
       "8   0.227696  0.925532\n",
       "0   1.961718  0.643617\n",
       "1   0.961718  0.643617\n",
       "9   0.051629  0.361702"
      ]
     },
     "execution_count": 88,
     "metadata": {},
     "output_type": "execute_result"
    }
   ],
   "source": [
    "acc_list"
   ]
  },
  {
   "cell_type": "code",
   "execution_count": null,
   "metadata": {},
   "outputs": [],
   "source": []
  }
 ],
 "metadata": {
  "kernelspec": {
   "display_name": "Python 3.9.7 ('base')",
   "language": "python",
   "name": "python3"
  },
  "language_info": {
   "codemirror_mode": {
    "name": "ipython",
    "version": 3
   },
   "file_extension": ".py",
   "mimetype": "text/x-python",
   "name": "python",
   "nbconvert_exporter": "python",
   "pygments_lexer": "ipython3",
   "version": "3.9.7"
  },
  "orig_nbformat": 4,
  "vscode": {
   "interpreter": {
    "hash": "0eb98743bfad9c0d53c30530ba0e13e617439b85f83655d9d8d6ecadf551e6c4"
   }
  }
 },
 "nbformat": 4,
 "nbformat_minor": 2
}
